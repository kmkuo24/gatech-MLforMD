{
 "cells": [
  {
   "cell_type": "markdown",
   "id": "64e93174-3df6-446c-851f-f672ebb7f915",
   "metadata": {},
   "source": [
    "<b> How to embed quizzes:</b>\n",
    "1. Create a quiz folder\n",
    "2. Upload quiz html files to this folder\n",
    "3. Make sure to have pip install jupyterquiz somewhere in the notebook\n",
    "4. Copy the cell below where you want your quiz\n",
    "5. Edit the path to the correct html file"
   ]
  },
  {
   "cell_type": "code",
   "execution_count": null,
   "id": "14fc7819-7a1c-4303-9ba1-c2ef8b2fe625",
   "metadata": {},
   "outputs": [],
   "source": [
    "from IPython.display import IFrame\n",
    "IFrame('html/quiz_example.html', width=800, height=400)"
   ]
  }
 ],
 "metadata": {
  "kernelspec": {
   "display_name": "conda_python3",
   "language": "python",
   "name": "conda_python3"
  },
  "language_info": {
   "codemirror_mode": {
    "name": "ipython",
    "version": 3
   },
   "file_extension": ".py",
   "mimetype": "text/x-python",
   "name": "python",
   "nbconvert_exporter": "python",
   "pygments_lexer": "ipython3",
   "version": "3.10.15"
  }
 },
 "nbformat": 4,
 "nbformat_minor": 5
}
